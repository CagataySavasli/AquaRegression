{
 "cells": [
  {
   "cell_type": "code",
   "id": "initial_id",
   "metadata": {
    "collapsed": true,
    "ExecuteTime": {
     "end_time": "2024-11-04T17:35:09.393277Z",
     "start_time": "2024-11-04T17:35:08.124403Z"
    }
   },
   "source": [
    "import pandas as pd\n",
    "import numpy as np\n",
    "from sklearn.model_selection import train_test_split\n",
    "from sklearn.linear_model import LinearRegression, Lasso\n",
    "from sklearn.preprocessing import OneHotEncoder\n",
    "from scipy.optimize import minimize"
   ],
   "outputs": [],
   "execution_count": 1
  },
  {
   "metadata": {
    "ExecuteTime": {
     "end_time": "2024-11-04T17:35:09.397535Z",
     "start_time": "2024-11-04T17:35:09.394217Z"
    }
   },
   "cell_type": "code",
   "source": "data = pd.read_csv('src/Fish.csv')",
   "id": "c5511f5058c64e03",
   "outputs": [],
   "execution_count": 2
  },
  {
   "metadata": {
    "ExecuteTime": {
     "end_time": "2024-11-04T17:35:09.405639Z",
     "start_time": "2024-11-04T17:35:09.398174Z"
    }
   },
   "cell_type": "code",
   "source": "data.head()",
   "id": "9db438f6b7cd1461",
   "outputs": [
    {
     "data": {
      "text/plain": [
       "  Species  Weight  Length1  Length2  Length3   Height   Width\n",
       "0   Bream   242.0     23.2     25.4     30.0  11.5200  4.0200\n",
       "1   Bream   290.0     24.0     26.3     31.2  12.4800  4.3056\n",
       "2   Bream   340.0     23.9     26.5     31.1  12.3778  4.6961\n",
       "3   Bream   363.0     26.3     29.0     33.5  12.7300  4.4555\n",
       "4   Bream   430.0     26.5     29.0     34.0  12.4440  5.1340"
      ],
      "text/html": [
       "<div>\n",
       "<style scoped>\n",
       "    .dataframe tbody tr th:only-of-type {\n",
       "        vertical-align: middle;\n",
       "    }\n",
       "\n",
       "    .dataframe tbody tr th {\n",
       "        vertical-align: top;\n",
       "    }\n",
       "\n",
       "    .dataframe thead th {\n",
       "        text-align: right;\n",
       "    }\n",
       "</style>\n",
       "<table border=\"1\" class=\"dataframe\">\n",
       "  <thead>\n",
       "    <tr style=\"text-align: right;\">\n",
       "      <th></th>\n",
       "      <th>Species</th>\n",
       "      <th>Weight</th>\n",
       "      <th>Length1</th>\n",
       "      <th>Length2</th>\n",
       "      <th>Length3</th>\n",
       "      <th>Height</th>\n",
       "      <th>Width</th>\n",
       "    </tr>\n",
       "  </thead>\n",
       "  <tbody>\n",
       "    <tr>\n",
       "      <th>0</th>\n",
       "      <td>Bream</td>\n",
       "      <td>242.0</td>\n",
       "      <td>23.2</td>\n",
       "      <td>25.4</td>\n",
       "      <td>30.0</td>\n",
       "      <td>11.5200</td>\n",
       "      <td>4.0200</td>\n",
       "    </tr>\n",
       "    <tr>\n",
       "      <th>1</th>\n",
       "      <td>Bream</td>\n",
       "      <td>290.0</td>\n",
       "      <td>24.0</td>\n",
       "      <td>26.3</td>\n",
       "      <td>31.2</td>\n",
       "      <td>12.4800</td>\n",
       "      <td>4.3056</td>\n",
       "    </tr>\n",
       "    <tr>\n",
       "      <th>2</th>\n",
       "      <td>Bream</td>\n",
       "      <td>340.0</td>\n",
       "      <td>23.9</td>\n",
       "      <td>26.5</td>\n",
       "      <td>31.1</td>\n",
       "      <td>12.3778</td>\n",
       "      <td>4.6961</td>\n",
       "    </tr>\n",
       "    <tr>\n",
       "      <th>3</th>\n",
       "      <td>Bream</td>\n",
       "      <td>363.0</td>\n",
       "      <td>26.3</td>\n",
       "      <td>29.0</td>\n",
       "      <td>33.5</td>\n",
       "      <td>12.7300</td>\n",
       "      <td>4.4555</td>\n",
       "    </tr>\n",
       "    <tr>\n",
       "      <th>4</th>\n",
       "      <td>Bream</td>\n",
       "      <td>430.0</td>\n",
       "      <td>26.5</td>\n",
       "      <td>29.0</td>\n",
       "      <td>34.0</td>\n",
       "      <td>12.4440</td>\n",
       "      <td>5.1340</td>\n",
       "    </tr>\n",
       "  </tbody>\n",
       "</table>\n",
       "</div>"
      ]
     },
     "execution_count": 3,
     "metadata": {},
     "output_type": "execute_result"
    }
   ],
   "execution_count": 3
  },
  {
   "metadata": {
    "ExecuteTime": {
     "end_time": "2024-11-04T17:35:09.409043Z",
     "start_time": "2024-11-04T17:35:09.406805Z"
    }
   },
   "cell_type": "code",
   "source": "data.shape",
   "id": "d55e10b40bc4ae38",
   "outputs": [
    {
     "data": {
      "text/plain": [
       "(159, 7)"
      ]
     },
     "execution_count": 4,
     "metadata": {},
     "output_type": "execute_result"
    }
   ],
   "execution_count": 4
  },
  {
   "metadata": {
    "ExecuteTime": {
     "end_time": "2024-11-04T17:35:09.413931Z",
     "start_time": "2024-11-04T17:35:09.409627Z"
    }
   },
   "cell_type": "code",
   "source": "data.info()",
   "id": "6327af5b787df83a",
   "outputs": [
    {
     "name": "stdout",
     "output_type": "stream",
     "text": [
      "<class 'pandas.core.frame.DataFrame'>\n",
      "RangeIndex: 159 entries, 0 to 158\n",
      "Data columns (total 7 columns):\n",
      " #   Column   Non-Null Count  Dtype  \n",
      "---  ------   --------------  -----  \n",
      " 0   Species  159 non-null    object \n",
      " 1   Weight   159 non-null    float64\n",
      " 2   Length1  159 non-null    float64\n",
      " 3   Length2  159 non-null    float64\n",
      " 4   Length3  159 non-null    float64\n",
      " 5   Height   159 non-null    float64\n",
      " 6   Width    159 non-null    float64\n",
      "dtypes: float64(6), object(1)\n",
      "memory usage: 8.8+ KB\n"
     ]
    }
   ],
   "execution_count": 5
  },
  {
   "metadata": {
    "ExecuteTime": {
     "end_time": "2024-11-04T17:35:09.416723Z",
     "start_time": "2024-11-04T17:35:09.414592Z"
    }
   },
   "cell_type": "code",
   "source": "data['Species'].unique()",
   "id": "31f130c773446e1e",
   "outputs": [
    {
     "data": {
      "text/plain": [
       "array(['Bream', 'Roach', 'Whitefish', 'Parkki', 'Perch', 'Pike', 'Smelt'],\n",
       "      dtype=object)"
      ]
     },
     "execution_count": 6,
     "metadata": {},
     "output_type": "execute_result"
    }
   ],
   "execution_count": 6
  },
  {
   "metadata": {
    "ExecuteTime": {
     "end_time": "2024-11-04T17:35:09.422487Z",
     "start_time": "2024-11-04T17:35:09.417342Z"
    }
   },
   "cell_type": "code",
   "source": [
    "encoder = OneHotEncoder(handle_unknown='ignore')\n",
    "encoder_df = pd.DataFrame(encoder.fit_transform(data[['Species']]).toarray())\n",
    "encoder_df.columns = encoder.get_feature_names_out(['Species'])\n",
    "data = data.join(encoder_df)\n",
    "data.drop(labels=[\"Species\"],axis=1,inplace=True)"
   ],
   "id": "1b523050ebc81650",
   "outputs": [],
   "execution_count": 7
  },
  {
   "metadata": {
    "ExecuteTime": {
     "end_time": "2024-11-04T17:35:09.430747Z",
     "start_time": "2024-11-04T17:35:09.423151Z"
    }
   },
   "cell_type": "code",
   "source": "data.head()",
   "id": "e75278b5d52e97ed",
   "outputs": [
    {
     "data": {
      "text/plain": [
       "   Weight  Length1  Length2  Length3   Height   Width  Species_Bream  \\\n",
       "0   242.0     23.2     25.4     30.0  11.5200  4.0200            1.0   \n",
       "1   290.0     24.0     26.3     31.2  12.4800  4.3056            1.0   \n",
       "2   340.0     23.9     26.5     31.1  12.3778  4.6961            1.0   \n",
       "3   363.0     26.3     29.0     33.5  12.7300  4.4555            1.0   \n",
       "4   430.0     26.5     29.0     34.0  12.4440  5.1340            1.0   \n",
       "\n",
       "   Species_Parkki  Species_Perch  Species_Pike  Species_Roach  Species_Smelt  \\\n",
       "0             0.0            0.0           0.0            0.0            0.0   \n",
       "1             0.0            0.0           0.0            0.0            0.0   \n",
       "2             0.0            0.0           0.0            0.0            0.0   \n",
       "3             0.0            0.0           0.0            0.0            0.0   \n",
       "4             0.0            0.0           0.0            0.0            0.0   \n",
       "\n",
       "   Species_Whitefish  \n",
       "0                0.0  \n",
       "1                0.0  \n",
       "2                0.0  \n",
       "3                0.0  \n",
       "4                0.0  "
      ],
      "text/html": [
       "<div>\n",
       "<style scoped>\n",
       "    .dataframe tbody tr th:only-of-type {\n",
       "        vertical-align: middle;\n",
       "    }\n",
       "\n",
       "    .dataframe tbody tr th {\n",
       "        vertical-align: top;\n",
       "    }\n",
       "\n",
       "    .dataframe thead th {\n",
       "        text-align: right;\n",
       "    }\n",
       "</style>\n",
       "<table border=\"1\" class=\"dataframe\">\n",
       "  <thead>\n",
       "    <tr style=\"text-align: right;\">\n",
       "      <th></th>\n",
       "      <th>Weight</th>\n",
       "      <th>Length1</th>\n",
       "      <th>Length2</th>\n",
       "      <th>Length3</th>\n",
       "      <th>Height</th>\n",
       "      <th>Width</th>\n",
       "      <th>Species_Bream</th>\n",
       "      <th>Species_Parkki</th>\n",
       "      <th>Species_Perch</th>\n",
       "      <th>Species_Pike</th>\n",
       "      <th>Species_Roach</th>\n",
       "      <th>Species_Smelt</th>\n",
       "      <th>Species_Whitefish</th>\n",
       "    </tr>\n",
       "  </thead>\n",
       "  <tbody>\n",
       "    <tr>\n",
       "      <th>0</th>\n",
       "      <td>242.0</td>\n",
       "      <td>23.2</td>\n",
       "      <td>25.4</td>\n",
       "      <td>30.0</td>\n",
       "      <td>11.5200</td>\n",
       "      <td>4.0200</td>\n",
       "      <td>1.0</td>\n",
       "      <td>0.0</td>\n",
       "      <td>0.0</td>\n",
       "      <td>0.0</td>\n",
       "      <td>0.0</td>\n",
       "      <td>0.0</td>\n",
       "      <td>0.0</td>\n",
       "    </tr>\n",
       "    <tr>\n",
       "      <th>1</th>\n",
       "      <td>290.0</td>\n",
       "      <td>24.0</td>\n",
       "      <td>26.3</td>\n",
       "      <td>31.2</td>\n",
       "      <td>12.4800</td>\n",
       "      <td>4.3056</td>\n",
       "      <td>1.0</td>\n",
       "      <td>0.0</td>\n",
       "      <td>0.0</td>\n",
       "      <td>0.0</td>\n",
       "      <td>0.0</td>\n",
       "      <td>0.0</td>\n",
       "      <td>0.0</td>\n",
       "    </tr>\n",
       "    <tr>\n",
       "      <th>2</th>\n",
       "      <td>340.0</td>\n",
       "      <td>23.9</td>\n",
       "      <td>26.5</td>\n",
       "      <td>31.1</td>\n",
       "      <td>12.3778</td>\n",
       "      <td>4.6961</td>\n",
       "      <td>1.0</td>\n",
       "      <td>0.0</td>\n",
       "      <td>0.0</td>\n",
       "      <td>0.0</td>\n",
       "      <td>0.0</td>\n",
       "      <td>0.0</td>\n",
       "      <td>0.0</td>\n",
       "    </tr>\n",
       "    <tr>\n",
       "      <th>3</th>\n",
       "      <td>363.0</td>\n",
       "      <td>26.3</td>\n",
       "      <td>29.0</td>\n",
       "      <td>33.5</td>\n",
       "      <td>12.7300</td>\n",
       "      <td>4.4555</td>\n",
       "      <td>1.0</td>\n",
       "      <td>0.0</td>\n",
       "      <td>0.0</td>\n",
       "      <td>0.0</td>\n",
       "      <td>0.0</td>\n",
       "      <td>0.0</td>\n",
       "      <td>0.0</td>\n",
       "    </tr>\n",
       "    <tr>\n",
       "      <th>4</th>\n",
       "      <td>430.0</td>\n",
       "      <td>26.5</td>\n",
       "      <td>29.0</td>\n",
       "      <td>34.0</td>\n",
       "      <td>12.4440</td>\n",
       "      <td>5.1340</td>\n",
       "      <td>1.0</td>\n",
       "      <td>0.0</td>\n",
       "      <td>0.0</td>\n",
       "      <td>0.0</td>\n",
       "      <td>0.0</td>\n",
       "      <td>0.0</td>\n",
       "      <td>0.0</td>\n",
       "    </tr>\n",
       "  </tbody>\n",
       "</table>\n",
       "</div>"
      ]
     },
     "execution_count": 8,
     "metadata": {},
     "output_type": "execute_result"
    }
   ],
   "execution_count": 8
  },
  {
   "metadata": {
    "ExecuteTime": {
     "end_time": "2024-11-04T17:35:09.433809Z",
     "start_time": "2024-11-04T17:35:09.431362Z"
    }
   },
   "cell_type": "code",
   "source": [
    "# Append two random columns to the DataFrame\n",
    "np.random.seed(42)  # For reproducibility\n",
    "data['Rand1'] = np.random.randint(10, 101, size=len(data))\n",
    "data['Rand2'] = np.random.randint(1, 7, size=len(data))"
   ],
   "id": "c83a1c84a52d3f51",
   "outputs": [],
   "execution_count": 9
  },
  {
   "metadata": {
    "ExecuteTime": {
     "end_time": "2024-11-04T17:35:09.442541Z",
     "start_time": "2024-11-04T17:35:09.435675Z"
    }
   },
   "cell_type": "code",
   "source": "data.head()",
   "id": "6bf8de11df5153d0",
   "outputs": [
    {
     "data": {
      "text/plain": [
       "   Weight  Length1  Length2  Length3   Height   Width  Species_Bream  \\\n",
       "0   242.0     23.2     25.4     30.0  11.5200  4.0200            1.0   \n",
       "1   290.0     24.0     26.3     31.2  12.4800  4.3056            1.0   \n",
       "2   340.0     23.9     26.5     31.1  12.3778  4.6961            1.0   \n",
       "3   363.0     26.3     29.0     33.5  12.7300  4.4555            1.0   \n",
       "4   430.0     26.5     29.0     34.0  12.4440  5.1340            1.0   \n",
       "\n",
       "   Species_Parkki  Species_Perch  Species_Pike  Species_Roach  Species_Smelt  \\\n",
       "0             0.0            0.0           0.0            0.0            0.0   \n",
       "1             0.0            0.0           0.0            0.0            0.0   \n",
       "2             0.0            0.0           0.0            0.0            0.0   \n",
       "3             0.0            0.0           0.0            0.0            0.0   \n",
       "4             0.0            0.0           0.0            0.0            0.0   \n",
       "\n",
       "   Species_Whitefish  Rand1  Rand2  \n",
       "0                0.0     61      3  \n",
       "1                0.0     24      3  \n",
       "2                0.0     81      6  \n",
       "3                0.0     70      4  \n",
       "4                0.0     30      2  "
      ],
      "text/html": [
       "<div>\n",
       "<style scoped>\n",
       "    .dataframe tbody tr th:only-of-type {\n",
       "        vertical-align: middle;\n",
       "    }\n",
       "\n",
       "    .dataframe tbody tr th {\n",
       "        vertical-align: top;\n",
       "    }\n",
       "\n",
       "    .dataframe thead th {\n",
       "        text-align: right;\n",
       "    }\n",
       "</style>\n",
       "<table border=\"1\" class=\"dataframe\">\n",
       "  <thead>\n",
       "    <tr style=\"text-align: right;\">\n",
       "      <th></th>\n",
       "      <th>Weight</th>\n",
       "      <th>Length1</th>\n",
       "      <th>Length2</th>\n",
       "      <th>Length3</th>\n",
       "      <th>Height</th>\n",
       "      <th>Width</th>\n",
       "      <th>Species_Bream</th>\n",
       "      <th>Species_Parkki</th>\n",
       "      <th>Species_Perch</th>\n",
       "      <th>Species_Pike</th>\n",
       "      <th>Species_Roach</th>\n",
       "      <th>Species_Smelt</th>\n",
       "      <th>Species_Whitefish</th>\n",
       "      <th>Rand1</th>\n",
       "      <th>Rand2</th>\n",
       "    </tr>\n",
       "  </thead>\n",
       "  <tbody>\n",
       "    <tr>\n",
       "      <th>0</th>\n",
       "      <td>242.0</td>\n",
       "      <td>23.2</td>\n",
       "      <td>25.4</td>\n",
       "      <td>30.0</td>\n",
       "      <td>11.5200</td>\n",
       "      <td>4.0200</td>\n",
       "      <td>1.0</td>\n",
       "      <td>0.0</td>\n",
       "      <td>0.0</td>\n",
       "      <td>0.0</td>\n",
       "      <td>0.0</td>\n",
       "      <td>0.0</td>\n",
       "      <td>0.0</td>\n",
       "      <td>61</td>\n",
       "      <td>3</td>\n",
       "    </tr>\n",
       "    <tr>\n",
       "      <th>1</th>\n",
       "      <td>290.0</td>\n",
       "      <td>24.0</td>\n",
       "      <td>26.3</td>\n",
       "      <td>31.2</td>\n",
       "      <td>12.4800</td>\n",
       "      <td>4.3056</td>\n",
       "      <td>1.0</td>\n",
       "      <td>0.0</td>\n",
       "      <td>0.0</td>\n",
       "      <td>0.0</td>\n",
       "      <td>0.0</td>\n",
       "      <td>0.0</td>\n",
       "      <td>0.0</td>\n",
       "      <td>24</td>\n",
       "      <td>3</td>\n",
       "    </tr>\n",
       "    <tr>\n",
       "      <th>2</th>\n",
       "      <td>340.0</td>\n",
       "      <td>23.9</td>\n",
       "      <td>26.5</td>\n",
       "      <td>31.1</td>\n",
       "      <td>12.3778</td>\n",
       "      <td>4.6961</td>\n",
       "      <td>1.0</td>\n",
       "      <td>0.0</td>\n",
       "      <td>0.0</td>\n",
       "      <td>0.0</td>\n",
       "      <td>0.0</td>\n",
       "      <td>0.0</td>\n",
       "      <td>0.0</td>\n",
       "      <td>81</td>\n",
       "      <td>6</td>\n",
       "    </tr>\n",
       "    <tr>\n",
       "      <th>3</th>\n",
       "      <td>363.0</td>\n",
       "      <td>26.3</td>\n",
       "      <td>29.0</td>\n",
       "      <td>33.5</td>\n",
       "      <td>12.7300</td>\n",
       "      <td>4.4555</td>\n",
       "      <td>1.0</td>\n",
       "      <td>0.0</td>\n",
       "      <td>0.0</td>\n",
       "      <td>0.0</td>\n",
       "      <td>0.0</td>\n",
       "      <td>0.0</td>\n",
       "      <td>0.0</td>\n",
       "      <td>70</td>\n",
       "      <td>4</td>\n",
       "    </tr>\n",
       "    <tr>\n",
       "      <th>4</th>\n",
       "      <td>430.0</td>\n",
       "      <td>26.5</td>\n",
       "      <td>29.0</td>\n",
       "      <td>34.0</td>\n",
       "      <td>12.4440</td>\n",
       "      <td>5.1340</td>\n",
       "      <td>1.0</td>\n",
       "      <td>0.0</td>\n",
       "      <td>0.0</td>\n",
       "      <td>0.0</td>\n",
       "      <td>0.0</td>\n",
       "      <td>0.0</td>\n",
       "      <td>0.0</td>\n",
       "      <td>30</td>\n",
       "      <td>2</td>\n",
       "    </tr>\n",
       "  </tbody>\n",
       "</table>\n",
       "</div>"
      ]
     },
     "execution_count": 10,
     "metadata": {},
     "output_type": "execute_result"
    }
   ],
   "execution_count": 10
  },
  {
   "metadata": {
    "ExecuteTime": {
     "end_time": "2024-11-04T17:35:09.446407Z",
     "start_time": "2024-11-04T17:35:09.443254Z"
    }
   },
   "cell_type": "code",
   "source": [
    "X = data.drop(columns=['Weight'])\n",
    "y = data['Weight']\n",
    "\n",
    "X_train, X_test, y_train, y_test = train_test_split(X, y, test_size=0.2, random_state=42)\n",
    "\n",
    "models_results = {}"
   ],
   "id": "4638db7ccc8f61ed",
   "outputs": [],
   "execution_count": 11
  },
  {
   "metadata": {
    "ExecuteTime": {
     "end_time": "2024-11-04T17:43:25.596238Z",
     "start_time": "2024-11-04T17:43:25.578563Z"
    }
   },
   "cell_type": "code",
   "source": [
    "print(f\"\"\"\n",
    "Shape of data: {data.shape}\n",
    "\n",
    "Shape of X_train: {X_train.shape}\n",
    "Shape of y_train: {y_train.shape}\n",
    "\n",
    "Shape of X_test: {X_test.shape}\n",
    "Shape of y_test: {y_test.shape}\n",
    "\"\"\")"
   ],
   "id": "3052069452bb964b",
   "outputs": [
    {
     "name": "stdout",
     "output_type": "stream",
     "text": [
      "\n",
      "Shape of data: (159, 15)\n",
      "\n",
      "Shape of X_train: (127, 14)\n",
      "Shape of y_train: (127,)\n",
      "\n",
      "Shape of X_test: (32, 14)\n",
      "Shape of y_test: (32,)\n",
      "\n"
     ]
    }
   ],
   "execution_count": 24
  },
  {
   "metadata": {
    "ExecuteTime": {
     "end_time": "2024-11-04T17:35:09.453293Z",
     "start_time": "2024-11-04T17:35:09.449566Z"
    }
   },
   "cell_type": "code",
   "source": [
    "model_1 = LinearRegression()\n",
    "model_1.fit(X_train, y_train)\n",
    "models_results['Model-1'] = {\n",
    "    'coefficients': model_1.coef_,\n",
    "    'intercept': model_1.intercept_,\n",
    "    'explained_variance': model_1.score(X_test, y_test)\n",
    "}"
   ],
   "id": "99c7dd38e66b959f",
   "outputs": [],
   "execution_count": 13
  },
  {
   "metadata": {
    "ExecuteTime": {
     "end_time": "2024-11-04T17:35:09.458131Z",
     "start_time": "2024-11-04T17:35:09.453979Z"
    }
   },
   "cell_type": "code",
   "source": [
    "X_train_model_2 = X_train.drop(columns=['Rand1'])\n",
    "X_test_model_2 = X_test.drop(columns=['Rand1'])\n",
    "\n",
    "model_2 = LinearRegression()\n",
    "model_2.fit(X_train_model_2, y_train)\n",
    "models_results['Model-2'] = {\n",
    "    'coefficients': model_2.coef_,\n",
    "    'intercept': model_2.intercept_,\n",
    "    'explained_variance': model_2.score(X_test_model_2, y_test)\n",
    "}"
   ],
   "id": "1ce502a0c55d70ad",
   "outputs": [],
   "execution_count": 14
  },
  {
   "metadata": {
    "ExecuteTime": {
     "end_time": "2024-11-04T17:35:09.463844Z",
     "start_time": "2024-11-04T17:35:09.458846Z"
    }
   },
   "cell_type": "code",
   "source": [
    "X_train_model_3 = X_train.drop(columns=['Rand1', 'Rand2'])\n",
    "X_test_model_3 = X_test.drop(columns=['Rand1', 'Rand2'])\n",
    "\n",
    "model_3 = LinearRegression()\n",
    "model_3.fit(X_train_model_3, y_train)\n",
    "models_results['Model-3'] = {\n",
    "    'coefficients': model_3.coef_,\n",
    "    'intercept': model_3.intercept_,\n",
    "    'explained_variance': model_3.score(X_test_model_3, y_test)\n",
    "}"
   ],
   "id": "862fff61d9b232ee",
   "outputs": [],
   "execution_count": 15
  },
  {
   "metadata": {
    "ExecuteTime": {
     "end_time": "2024-11-04T17:35:09.468326Z",
     "start_time": "2024-11-04T17:35:09.464417Z"
    }
   },
   "cell_type": "code",
   "source": [
    "X_train_model_4 = X_train.head(2)\n",
    "y_train_model_4 = y_train.head(2)\n",
    "\n",
    "X_test_model_4 = X_test.head(2)\n",
    "y_test_model_4 = y_test.head(2)\n",
    "\n",
    "model_4 = LinearRegression()\n",
    "model_4.fit(X_train_model_4, y_train_model_4)\n",
    "models_results['Model-4'] = {\n",
    "    'coefficients': model_4.coef_,\n",
    "    'intercept': model_4.intercept_,\n",
    "    'explained_variance': model_4.score(X_test, y_test)\n",
    "}"
   ],
   "id": "ad4b6ddff7bafbf7",
   "outputs": [],
   "execution_count": 16
  },
  {
   "metadata": {
    "ExecuteTime": {
     "end_time": "2024-11-04T17:45:05.065094Z",
     "start_time": "2024-11-04T17:45:05.056794Z"
    }
   },
   "cell_type": "code",
   "source": [
    "for model, result in models_results.items():\n",
    "    print(f\"{model}:\")\n",
    "    print(f\" -> Coefficients: {result['coefficients']}\")\n",
    "    print(f\" -> Intercept: {result['intercept']}\")\n",
    "    print(f\" -> Explained Variance: {result['explained_variance']:.2f}\\n\")\n",
    "    print(\"*\"*100)"
   ],
   "id": "90d08c8826f80da0",
   "outputs": [
    {
     "name": "stdout",
     "output_type": "stream",
     "text": [
      "Model-1:\n",
      " -> Coefficients: [-5.48306368e+01  5.18904100e+01  3.80898196e+01 -9.75373508e+00\n",
      "  1.00508537e+01 -4.84316795e+01  9.46721461e+01  3.04525091e+01\n",
      " -3.68657926e+02 -8.41693687e+00  2.87175214e+02  1.32066741e+01\n",
      "  4.54323021e-02  7.68524801e+00]\n",
      " -> Intercept: -809.3219926080676\n",
      " -> Explained Variance: 0.95\n",
      "\n",
      "****************************************************************************************************\n",
      "Model-2:\n",
      " -> Coefficients: [ -55.3972675    51.76838126   38.69949975   -9.94864225   10.26649787\n",
      "  -48.66324741   94.46328398   30.94717698 -368.52316345   -8.77247275\n",
      "  286.85653635   13.69188629    7.64505521]\n",
      " -> Intercept: -806.6823581752342\n",
      " -> Explained Variance: 0.95\n",
      "\n",
      "****************************************************************************************************\n",
      "Model-3:\n",
      " -> Coefficients: [ -59.1395506    55.61529428   39.05378679  -10.73045193    7.22621264\n",
      "  -42.31151092   97.25091484   32.35928897 -373.68699528   -7.3166755\n",
      "  288.37496441    5.33001349]\n",
      " -> Intercept: -784.506638240412\n",
      " -> Explained Variance: 0.95\n",
      "\n",
      "****************************************************************************************************\n",
      "Model-4:\n",
      " -> Coefficients: [ 1.46443289  1.54752128  1.63580269  0.16615601  0.11624066  0.\n",
      "  0.         -0.05193024  0.05193024  0.          0.          0.\n",
      " -4.41407076 -0.15579073]\n",
      " -> Intercept: 412.92700064251807\n",
      " -> Explained Variance: 0.04\n",
      "\n",
      "****************************************************************************************************\n"
     ]
    }
   ],
   "execution_count": 28
  },
  {
   "metadata": {
    "ExecuteTime": {
     "end_time": "2024-11-04T17:35:09.474589Z",
     "start_time": "2024-11-04T17:35:09.472522Z"
    }
   },
   "cell_type": "code",
   "source": [
    "# \"Optimization\" task: Implement regression optimizer using SciPy\n",
    "def loss_function(beta, X, y):\n",
    "    predictions = X.dot(beta)\n",
    "    return np.mean((predictions - y) ** 2)"
   ],
   "id": "6525044c887b5522",
   "outputs": [],
   "execution_count": 18
  },
  {
   "metadata": {
    "ExecuteTime": {
     "end_time": "2024-11-04T17:35:09.504098Z",
     "start_time": "2024-11-04T17:35:09.475314Z"
    }
   },
   "cell_type": "code",
   "source": [
    "initial_beta = np.zeros(X.shape[1])\n",
    "result = minimize(loss_function, initial_beta, args=(X_train.values, y_train.values))\n",
    "optimized_beta = result.x\n",
    "print(\"Optimized Coefficients:\", optimized_beta)"
   ],
   "id": "cd38508a96daf243",
   "outputs": [
    {
     "name": "stdout",
     "output_type": "stream",
     "text": [
      "Optimized Coefficients: [-5.48275285e+01  5.18885791e+01  3.80886045e+01 -9.75432975e+00\n",
      "  1.00526577e+01 -8.57740854e+02 -7.14642996e+02 -7.78865705e+02\n",
      " -1.17797348e+03 -8.17733658e+02 -5.22144531e+02 -7.96108644e+02\n",
      "  4.54229746e-02  7.68520857e+00]\n"
     ]
    }
   ],
   "execution_count": 19
  },
  {
   "metadata": {
    "ExecuteTime": {
     "end_time": "2024-11-04T17:35:09.511710Z",
     "start_time": "2024-11-04T17:35:09.505489Z"
    }
   },
   "cell_type": "code",
   "source": [
    "# \"Regularization\" task: Implement Lasso with upper bound constraint\n",
    "lasso_upper_bound = Lasso(alpha=1000)\n",
    "lasso_upper_bound.fit(X_train, y_train)\n",
    "print(\"Lasso with Upper Bound Coefficients:\", lasso_upper_bound.coef_)"
   ],
   "id": "5bbc5cbf8c326b63",
   "outputs": [
    {
     "name": "stdout",
     "output_type": "stream",
     "text": [
      "Lasso with Upper Bound Coefficients: [ 0.          0.         20.66327454  0.          0.          0.\n",
      " -0.          0.         -0.         -0.         -0.          0.\n",
      " -0.          0.        ]\n"
     ]
    }
   ],
   "execution_count": 20
  },
  {
   "metadata": {
    "ExecuteTime": {
     "end_time": "2024-11-04T17:35:09.520952Z",
     "start_time": "2024-11-04T17:35:09.513373Z"
    }
   },
   "cell_type": "code",
   "source": [
    "# Lasso with Lagrange multiplier\n",
    "lasso_penalty = Lasso(alpha=0.0001)\n",
    "lasso_penalty.fit(X_train, y_train)\n",
    "print(\"Lasso with Lagrange Multiplier Coefficients:\", lasso_penalty.coef_)"
   ],
   "id": "a9e4da0df1c6c635",
   "outputs": [
    {
     "name": "stdout",
     "output_type": "stream",
     "text": [
      "Lasso with Lagrange Multiplier Coefficients: [-3.11822853e+00  2.48314961e+01  1.75528158e+01 -8.83586908e+00\n",
      "  9.01141807e+00  3.45167016e+01  1.15427151e+02  3.39595221e+01\n",
      " -3.60985492e+02  1.27687004e+01  2.71740114e+02  4.60762217e+01\n",
      "  1.09254317e-01  8.02897852e+00]\n"
     ]
    },
    {
     "name": "stderr",
     "output_type": "stream",
     "text": [
      "/Users/cagatay/Library/Caches/pypoetry/virtualenvs/aquaregression-07QEgTJB-py3.12/lib/python3.12/site-packages/sklearn/linear_model/_coordinate_descent.py:697: ConvergenceWarning: Objective did not converge. You might want to increase the number of iterations, check the scale of the features or consider increasing regularisation. Duality gap: 5.546e+05, tolerance: 1.561e+03\n",
      "  model = cd_fast.enet_coordinate_descent(\n"
     ]
    }
   ],
   "execution_count": 21
  },
  {
   "metadata": {
    "ExecuteTime": {
     "end_time": "2024-11-04T17:35:09.524071Z",
     "start_time": "2024-11-04T17:35:09.521750Z"
    }
   },
   "cell_type": "code",
   "source": [
    "# Compare the two Lasso versions\n",
    "# Note: In this case, you might want to adjust alpha to find a working regularization scenario\n",
    "# Display results\n",
    "print(\"Comparison of Lasso versions:\")\n",
    "print(\"Upper Bound Coefficients:\", lasso_upper_bound.coef_)\n",
    "print(\"Lagrange Multiplier Coefficients:\", lasso_penalty.coef_)"
   ],
   "id": "8fa8f714f3f0fd25",
   "outputs": [
    {
     "name": "stdout",
     "output_type": "stream",
     "text": [
      "Comparison of Lasso versions:\n",
      "Upper Bound Coefficients: [ 0.          0.         20.66327454  0.          0.          0.\n",
      " -0.          0.         -0.         -0.         -0.          0.\n",
      " -0.          0.        ]\n",
      "Lagrange Multiplier Coefficients: [-3.11822853e+00  2.48314961e+01  1.75528158e+01 -8.83586908e+00\n",
      "  9.01141807e+00  3.45167016e+01  1.15427151e+02  3.39595221e+01\n",
      " -3.60985492e+02  1.27687004e+01  2.71740114e+02  4.60762217e+01\n",
      "  1.09254317e-01  8.02897852e+00]\n"
     ]
    }
   ],
   "execution_count": 22
  },
  {
   "metadata": {
    "ExecuteTime": {
     "end_time": "2024-11-04T17:35:09.530052Z",
     "start_time": "2024-11-04T17:35:09.524637Z"
    }
   },
   "cell_type": "code",
   "source": [
    "# Using built-in Lasso from sklearn\n",
    "lasso_builtin = Lasso(alpha=0.01)\n",
    "lasso_builtin.fit(X_train, y_train)\n",
    "print(\"Built-in Lasso Coefficients:\", lasso_builtin.coef_)"
   ],
   "id": "ca05d12d9263c235",
   "outputs": [
    {
     "name": "stdout",
     "output_type": "stream",
     "text": [
      "Built-in Lasso Coefficients: [-3.12344500e+00  2.47970597e+01  1.75484128e+01 -8.65595981e+00\n",
      "  8.91023186e+00 -4.02653407e+00  7.70005233e+01 -3.62437666e+00\n",
      " -3.97640502e+02 -2.49110443e+01  2.33983449e+02  7.88521215e+00\n",
      "  1.09003286e-01  8.02223389e+00]\n"
     ]
    },
    {
     "name": "stderr",
     "output_type": "stream",
     "text": [
      "/Users/cagatay/Library/Caches/pypoetry/virtualenvs/aquaregression-07QEgTJB-py3.12/lib/python3.12/site-packages/sklearn/linear_model/_coordinate_descent.py:697: ConvergenceWarning: Objective did not converge. You might want to increase the number of iterations, check the scale of the features or consider increasing regularisation. Duality gap: 5.523e+05, tolerance: 1.561e+03\n",
      "  model = cd_fast.enet_coordinate_descent(\n"
     ]
    }
   ],
   "execution_count": 23
  },
  {
   "metadata": {
    "ExecuteTime": {
     "end_time": "2024-11-04T17:35:09.531974Z",
     "start_time": "2024-11-04T17:35:09.530736Z"
    }
   },
   "cell_type": "code",
   "source": "",
   "id": "78e4a9b6db4ceca0",
   "outputs": [],
   "execution_count": 23
  }
 ],
 "metadata": {
  "kernelspec": {
   "display_name": "Python 3",
   "language": "python",
   "name": "python3"
  },
  "language_info": {
   "codemirror_mode": {
    "name": "ipython",
    "version": 2
   },
   "file_extension": ".py",
   "mimetype": "text/x-python",
   "name": "python",
   "nbconvert_exporter": "python",
   "pygments_lexer": "ipython2",
   "version": "2.7.6"
  }
 },
 "nbformat": 4,
 "nbformat_minor": 5
}
